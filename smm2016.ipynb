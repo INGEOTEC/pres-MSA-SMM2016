{
 "cells": [
  {
   "cell_type": "code",
   "execution_count": 1,
   "metadata": {
    "collapsed": false,
    "nbpresent": {
     "id": "4bffcdd8-c3a5-456e-8289-23678137d058"
    },
    "slideshow": {
     "slide_type": "skip"
    }
   },
   "outputs": [],
   "source": [
    "from IPython.core.display import HTML, Image, Markdown\n",
    "import sys\n",
    "import json\n",
    "sys.path.append(\"microTC\")\n",
    "from microtc.textmodel import TextModel\n",
    "from itertools import combinations\n",
    "\n",
    "\n",
    "from graphviz import Digraph\n",
    "dot = Digraph(comment='microtc pipeline', format=\"png\")\n",
    "# dot.engine = 'circo'\n",
    "dot.graph_attr['rankdir'] = 'LR'\n",
    "dot.node('i', '', style=\"invis\")\n",
    "dot.node('n', 'Normalización')\n",
    "dot.node('t', 'Tokenización')\n",
    "dot.node('w', 'Pesado')\n",
    "dot.node('c', 'Clasificación')\n",
    "dot.node('o', '', style=\"invis\")\n",
    "\n",
    "dot.edge('i', 'n', label=\"texto entrada\")\n",
    "dot.edge('n', 't', label=\"texto normalizado\")\n",
    "dot.edge('t', 'w', label=\"bolsa de palabras\")\n",
    "dot.edge('w', 'c', label=\"vector con pesos\")\n",
    "dot.edge('c', 'o', label=\"clase\")\n",
    "\n",
    "pipeline = dot.render(\"fig-pipeline\", view=False)\n"
   ]
  },
  {
   "cell_type": "markdown",
   "metadata": {
    "collapsed": false,
    "nbpresent": {
     "id": "c3871447-3727-48a1-b4ff-887ba971be91"
    },
    "slideshow": {
     "slide_type": "slide"
    }
   },
   "source": [
    "# Clasificación de texto #\n",
    "## Un enfoque basado en $\\mu TC$ ##\n",
    "\n",
    "\n",
    "**Seminario de la Sociedad Matemática Mexicana SMM 2016**\n",
    "\n",
    "\n",
    "<div>\n",
    "    Eric Sadit Téllez Avila INFOTEC \n",
    "    <estellezav@conacyt.mx> <br/>\n",
    "       CONACyT -- INFOTEC\n",
    "</div>"
   ]
  },
  {
   "cell_type": "markdown",
   "metadata": {
    "nbpresent": {
     "id": "2a1c3de4-2d92-45aa-9a15-8102f294f125"
    },
    "slideshow": {
     "slide_type": "slide"
    }
   },
   "source": [
    "# Agenda #\n",
    "- ¿Qué es $\\mu TC$\n",
    "- ¿En qué consiste la tarea de clasificación de texto?\n",
    "- ¿Cómo esta compuesto $\\mu TC$?\n",
    "- Estado del arte\n",
    "- Cómo se compara $\\mu TC$ con el estado del arte\n",
    "- Qué falta en $\\mu TC$\n",
    "- Ejemplos\n"
   ]
  },
  {
   "cell_type": "markdown",
   "metadata": {
    "nbpresent": {
     "id": "02bc8966-186d-4b47-9cf1-2ad9246d0491"
    },
    "slideshow": {
     "slide_type": "slide"
    }
   },
   "source": [
    "## Categorización de texto ##\n",
    "El problema consiste en, dado un texto $d$, determinar la(s) categoría(s) a la que pertenece en un conjunto $C$ de categorias, previamente conocido.\n",
    "\n",
    "Más formalmente:\n",
    "\n",
    "Dado un conjunto de categorias $\\cal{C} = \\{c_1, ..., c_m\\}$, determinar el subconjunto de categorias\n",
    "$C_d \\in \\wp(\\cal{C})$ a las que pertenece $d$. \n",
    "\n",
    "Notese que $C_t$ puede ser vacio o $\\cal{C}$.\n",
    "\n"
   ]
  },
  {
   "cell_type": "markdown",
   "metadata": {
    "nbpresent": {
     "id": "88cc9133-1951-4231-b1d3-a58428599fcd"
    },
    "slideshow": {
     "slide_type": "slide"
    }
   },
   "source": [
    "## Clasificación de texto ##\n",
    "La _clasificación_ de texto es una especialización del problema de categorización, donde $|C_d| = 1$, esto es $d$ solo puede ser asignado a una categoría.\n",
    "\n",
    "Es un problema de interés en la industria y la acádemia, con aplicaciones variadas a distintas áreas del conocimiento.\n",
    "\n",
    "- Análisis de sentimiento\n",
    "- Determinación de autoría, e.g., género, edad, estilo, etc.\n",
    "- Detección de spam\n",
    "- Categorización de noticias\n",
    "- Clasificación de idioma"
   ]
  },
  {
   "cell_type": "markdown",
   "metadata": {
    "nbpresent": {
     "id": "976a69bb-2f5d-4f78-9f9f-1fc016f635e5"
    },
    "slideshow": {
     "slide_type": "slide"
    }
   },
   "source": [
    "# Procesamiento de Lenguaje Natural #\n",
    "\n",
    "\n",
    "Un documento $d=s_1\\cdots s_n$ es simplemente la concatenación de símbolos $s \\in \\Sigma$. Donde, $\\Sigma$ es un _alfabeto_ de tamaño $\\sigma = |\\Sigma|$\n",
    "\n",
    "Notese qué el número de textos posibles de tamaño $n$ es $\\sigma^n$, por ejemplo, limitados a texto en inglés en Twitter se tienen\n",
    "    $$ 26^{140} \\simeq 1.248 \\times 10^{198} $$\n",
    "\n",
    "Sin emabargo, en lenguaje natural, este número no suele ser tan grande:\n",
    "  - existen reglas sobre que símbolos se pueden unir\n",
    "  - más aún, hay noción de _terminos_ o _palabras_, i.e., _morfología_\n",
    "  - también, hay reglas sobre como las palabras se pueden combinar, i.e., _sintaxis y gramática_\n",
    "\n",
    "Sin embargo, es un problema sumamente complicado, hay muchas reglas, variantes, excepciones, errores, etc.\n",
    "\n",
    "Y por si fuera poco, aunque los conceptos existen en esencia, aparecen de manera diferente en todos los lenguajes\n"
   ]
  },
  {
   "cell_type": "markdown",
   "metadata": {
    "collapsed": true,
    "nbpresent": {
     "id": "1c23e58d-924d-4bb0-9293-ef8f520fd240"
    },
    "slideshow": {
     "slide_type": "subslide"
    }
   },
   "source": [
    "Además, esta el problema semántico:\n",
    "\n",
    "- un término $s_i$ tiene significados diferentes (antónimos)\n",
    "- lo contrario también existe, $s_i \\not= s_j$ pero que son idénticos en significado (sinónimos)\n",
    "- en ambos casos, el significado preciso depende del contexto\n",
    "- también hay casos _aproximados_ de todo lo anterior\n",
    "- ironias, sarcamos, etc.\n",
    "\n",
    "... hay muchísimos problemas abiertos. **NLP** es complicado, de hecho es _AI-complete_\n"
   ]
  },
  {
   "cell_type": "markdown",
   "metadata": {
    "collapsed": false,
    "nbpresent": {
     "id": "76b4afb4-0abd-4f1d-a167-3d1f9abadbf5"
    },
    "slideshow": {
     "slide_type": "slide"
    }
   },
   "source": [
    "# Nuestro Enfoque #\n",
    "Por su complejidad, trabajar en NLP tiene una gran cantidad de problemas abiertos, en particular nosotros nos enfocamos en la clasificación de texto escrito de manera informal (e.g., Twitter).\n",
    "\n",
    "Para esto se utiliza un _pipeline_ estándar\n",
    "\n",
    "![Pipeline](fig-pipeline.png)\n",
    "\n",
    "No es la única opción, pero fijar el pipeline es útil como ya se expondrá.\n"
   ]
  },
  {
   "cell_type": "markdown",
   "metadata": {
    "slideshow": {
     "slide_type": "subslide"
    }
   },
   "source": [
    "El enfoque teórico suele ser muy complicado, y en realidad poco efectivo en la práctica, dadas las simplificaciones necesarias para hacerlo manejable\n",
    "\n",
    "- Lógica\n",
    "- Lingüistica\n",
    "- Semántica\n",
    "\n",
    "El enfoque práctico supone muchas cosas, en particular es un tanto casuístico:\n",
    "    \n",
    "- Se fija el lenguaje\n",
    "- Se fija el problema\n",
    "- Y la raíz de todos los males, muchas veces se supone que entre más técnicas sofísticadas se usen, mejores resultados se tendrán\n",
    "\n",
    "En ambos enfoques se suele suponer que ausencia de errores de diferentes fuentes, sin embargo, es la regla cuando el texto que se analiza fue generado por usuarios de una red social, e.g. Twitter."
   ]
  },
  {
   "cell_type": "markdown",
   "metadata": {
    "nbpresent": {
     "id": "8a2f28db-806c-43bf-a178-38176c300102"
    },
    "slideshow": {
     "slide_type": "slide"
    }
   },
   "source": [
    "# ¿Qué es $\\mu TC$? #\n",
    "micro TC o $\\mu TC$ es un clasificador de texto desarrollado en\n",
    "el _Laboratorio de Análisis Computacional de Grandes Cúmulos de Información_\n",
    "(o _Laboratorio de BigDATA_) de INFOTEC, sede Aguascalientes.\n",
    "\n",
    "Esta disponible para ser clonado en [https://github.com/INGEOTEC/microTC](https://github.com/INGEOTEC/microTC). Esta escrito en Python 3.5 para sacar ventaja de unicode. También se puede instalar utilizando `pip` y `conda`.\n"
   ]
  },
  {
   "cell_type": "markdown",
   "metadata": {
    "nbpresent": {
     "id": "6b172843-4297-41c3-a02c-0624b8371113"
    },
    "slideshow": {
     "slide_type": "subslide"
    }
   },
   "source": [
    "En particular, nuestro enfoque se basa en _aprendizaje computacional_ y _optimización combinatoria_. Hemos probado que este esquema es muy competitivo en la práctica. Además, con la adecuada selección de las funciones podemos lograr que \n",
    "$\\mu TC$ se independiente del lenguaje y robusto a errores.\n",
    "\n",
    "Esta compuesto por:\n",
    "- una serie de funciones de transformación de texto\n",
    "- una serie de tokenizadores\n",
    "- filtros de palabras y\n",
    "- algoritmos de pesado de términos\n",
    "\n",
    "Todo esto orquestado mediante un algoritmo de optimización combinatoria\n"
   ]
  },
  {
   "cell_type": "markdown",
   "metadata": {
    "nbpresent": {
     "id": "afbf9d0b-a293-4282-b281-35583ac57b2e"
    },
    "slideshow": {
     "slide_type": "subslide"
    }
   },
   "source": [
    "## Lista de parametros ##\n",
    "\n",
    "### Normalizadores multilenguaje ###\n",
    "\n",
    "|   nombre  | valores             |        descripción                   |\n",
    "|-----------|---------------------|--------------------------------------|\n",
    "|\tdel-punc | yes, no | Determina si las puntuaciones deben removerse |\n",
    "|\tdel-d1   | yes, no | Determina si se deben borrar letras repetidas |\n",
    "|\tdel-diac | yes, no | Determina si los simbolos que no ocupan espacios deben ser removidos |\n",
    "|\tlc       | yes, no | Determina si los símbolos deben ser normalizados en minúsculas |\n",
    "|\temo      | remove, group, none | Controla como deben tratarse los emoticones |\n",
    "|\tnum      | remove, group, none | `........................` números |\n",
    "|\turl      | remove, group, none | `........................` urls |\n",
    "|\tusr      | remove, group, none | `........................` usuarios |\n",
    "\n",
    "configuraciones: 1296\n"
   ]
  },
  {
   "cell_type": "markdown",
   "metadata": {
    "slideshow": {
     "slide_type": "subslide"
    }
   },
   "source": [
    "\n",
    "### Normalizadores dependientes del lenguaje ###\n",
    "\n",
    "|   nombre  | valores             |        descripción                   |\n",
    "|-----------|---------------------|--------------------------------------|\n",
    "|\tstem   | yes, no | Determina si a las palabras se les aplica _stemming_. |\n",
    "|\tneg    | yes, no | Determina si los operadores de negación son manejados de manera especial |\n",
    "|\tsw | remove, group, none | Controla como los _stopwords_ son manejados |\n",
    "\n",
    "configuraciones: 12\n"
   ]
  },
  {
   "cell_type": "markdown",
   "metadata": {
    "slideshow": {
     "slide_type": "subslide"
    }
   },
   "source": [
    "### Tokenizadores ###\n",
    "Los tokenizadores son en realidad una lista de tokenizadores, y están definidos tokenizer un elemento en $\\wp{(\\text{n-words} \\cup \\text{q-grams} \\cup \\text{skip-grams})} \\setminus \\{\\emptyset\\}$\n",
    "\n",
    "|   nombre  | valores             |        descripción                   |\n",
    "|-----------|---------------------|--------------------------------------|\n",
    "|\tn-words    | $\\{1,2,3\\}$      | Longitud de n-gramas de palabras (n-words) |\n",
    "|\tq-grams  | $\\{1,2,3,4,5,6,7\\}$ | Longitud de q-gramas de caracteres) |\n",
    "|\tskip-grams  | $\\{(2,1), (3, 1), (2, 2), (3, 2)\\}$ | Lista de skip-grams|\n",
    "\n",
    "configuraciones: 16383"
   ]
  },
  {
   "cell_type": "markdown",
   "metadata": {
    "slideshow": {
     "slide_type": "subslide"
    }
   },
   "source": [
    "### Parametros para pesado ###\n",
    "|   nombre  | valores             |        descripción                   |\n",
    "|-----------|---------------------|--------------------------------------|\n",
    "|token_min_filter | $\\{0.01, 0.03, 0.1, 0.30, -1, -5, -10\\}$ | Filtro de frequencias bajas |\n",
    "|token_max_filter | $\\{0.9, 99, 1.0\\}$ | Filtro de frequencias altas |\n",
    "|\ttfidf    | yes, no | Determina si se debe realizar un pesado TFIDF de terminos |\n",
    "\n",
    "configuraciones = 42"
   ]
  },
  {
   "cell_type": "code",
   "execution_count": 2,
   "metadata": {
    "collapsed": false,
    "slideshow": {
     "slide_type": "skip"
    }
   },
   "outputs": [
    {
     "name": "stdout",
     "output_type": "stream",
     "text": [
      "10668085344 202830.73511293635\n"
     ]
    }
   ],
   "source": [
    "conf = 42 * 16383 * 12 * 1292\n",
    "time = conf * 10 / 60 / 24 / 365.25\n",
    "print(conf, time)"
   ]
  },
  {
   "cell_type": "markdown",
   "metadata": {
    "slideshow": {
     "slide_type": "subslide"
    }
   },
   "source": [
    "Con esto tenemos un total de $10,668,085,344$ configuraciones. Dependiendo del tamaño de cada colección, cada configuración se evalua en tiempo diferente.\n",
    "\n",
    "Una tarea típica de análisis de sentimientos tiene un costo por configuración de cerca de 10 min. en una computadora de relativamente nueva, i.e., Intel(R) Xeon(R) CPU E5-2640 v3 @ 2.60GHz.\n",
    "\n",
    "Esto da un total de $202,830.74$ años de tiempo de cómputo.\n",
    "\n",
    "Un enfoque _naïve_ requiere una cantidad enorme de computadoras para parallelizar y distribuir este proceso, por esta razón, es mejor utilizar algoritmos eficientes para optimizar la búsqueda de la mejor configuración\n"
   ]
  },
  {
   "cell_type": "code",
   "execution_count": 3,
   "metadata": {
    "collapsed": false,
    "slideshow": {
     "slide_type": "skip"
    }
   },
   "outputs": [],
   "source": [
    "from sympy import symbols, sin, cos, exp, tan, sqrt\n",
    "from sympy.plotting import plot, plot3d\n",
    "from matplotlib import pyplot\n",
    "x, y = symbols('x y')\n",
    "plot(-x**2+200, axis=False, show=False).save(\"opt-1a.png\")\n",
    "plot(sin(x)*sin(1/(x*x)), axis=False, show=False).save('opt-1b.png')\n",
    "plot3d((-x**2 - y**2, (x, -5, 5), (y, -5, 5)), axis=False, show=False).save('opt-2a.png')\n",
    "plot3d(sin(x*y), axis=False, show=False).save('opt-2b.png')"
   ]
  },
  {
   "cell_type": "markdown",
   "metadata": {
    "slideshow": {
     "slide_type": "slide"
    }
   },
   "source": [
    "# Optimización combinatoria #\n",
    "Para tener algo práctico utilizamos una aproximación a encontrar la configuración óptima, en a lo más unas cuantas horas.\n",
    "\n",
    "Para esto necesitamos un espacio de búsqueda (dominio) y una función de aptitud.\n",
    "\n",
    "El espacio de búsqueda son todas las configuraciones.\n",
    "\n",
    "La función de aptitud es una médida de _que tan atinado_ es nuestro clasificador. Deseamos seleccionar la configuración que maximice la función de aptitud.\n"
   ]
  },
  {
   "cell_type": "markdown",
   "metadata": {
    "slideshow": {
     "slide_type": "subslide"
    }
   },
   "source": [
    "\n",
    "Notesé que:\n",
    "\n",
    "- El espacio de configuración no esta en $\\mathbb{R}^n$\n",
    "- En la configuración/parámetros son una mezcla de reales y categóricos\n",
    "- No hay coordenadas como tal\n",
    "\n",
    "Afortunadamente\n",
    "\n",
    "- Se pueden definir vecindades entre configuraciones\n",
    "- Se puede construir una gráfica\n",
    "- Se puede samplear el espacio\n",
    "- Se puede definir una función de aptitud de nodos\n"
   ]
  },
  {
   "cell_type": "markdown",
   "metadata": {
    "slideshow": {
     "slide_type": "subslide"
    }
   },
   "source": [
    "## Maximizando un objetivo (ejemplo) ##\n",
    "\n",
    "|fácil|un poco más complicado|\n",
    "|-|-|\n",
    "|<img src=\"opt-1a.png\" style=\"width:90%\" />|<img src=\"opt-1b.png\" style=\"width:90%\" />|\n",
    "|<img src=\"opt-2a.png\" style=\"width:90%\" />|<img src=\"opt-2b.png\" style=\"width:90%\" />|\n"
   ]
  },
  {
   "cell_type": "markdown",
   "metadata": {
    "slideshow": {
     "slide_type": "slide"
    }
   },
   "source": [
    "# Resultados Experimentales #\n",
    "![datasets](descripcion-datasets.png)"
   ]
  },
  {
   "cell_type": "markdown",
   "metadata": {
    "slideshow": {
     "slide_type": "subslide"
    }
   },
   "source": [
    "![performance](performance-competencias.png)"
   ]
  },
  {
   "cell_type": "markdown",
   "metadata": {
    "slideshow": {
     "slide_type": "subslide"
    }
   },
   "source": [
    "![performance 2](performance2.png)"
   ]
  },
  {
   "cell_type": "markdown",
   "metadata": {
    "slideshow": {
     "slide_type": "subslide"
    }
   },
   "source": [
    "![performance 3](performance3.png)"
   ]
  },
  {
   "cell_type": "markdown",
   "metadata": {
    "slideshow": {
     "slide_type": "slide"
    }
   },
   "source": [
    "# Gracias por su atención #\n",
    "\n",
    "## ¿Comentarios y preguntas? ##\n",
    "\n",
    "\n",
    "- Para más información sobre el _Posgrado en Ciencias en Ciencia de Datos_ aquí en Aguascalientes: <eric.tellez@infotec.mx>\n",
    "- Esta presentación la puedes obtener en: <https://github.com/INGEOTEC/pres-MSA-SMM2016>\n",
    "- $\\mu TC$ lo puedes conseguir en: <https://github.com/INGEOTEC/microTC>\n",
    "- Página de INFOTEC <https://www.infotec.mx/>"
   ]
  },
  {
   "cell_type": "markdown",
   "metadata": {
    "slideshow": {
     "slide_type": "slide"
    }
   },
   "source": [
    "# Slides de soporte #"
   ]
  },
  {
   "cell_type": "markdown",
   "metadata": {
    "nbpresent": {
     "id": "3f510c80-93c5-4e42-a5bf-3b0b24fd59ca"
    },
    "slideshow": {
     "slide_type": "subslide"
    }
   },
   "source": [
    "## Sobre el pesado ##\n",
    "El pesado de tokens esta fijo a TFIDF. Su nombre viene de la formulación $tf \\times idf$\n",
    "\n",
    "$tf$ es _term frequency_; es una medida de importancia **local** del término $t$ en el documento $d$, de manera normalizada esta definida como:\n",
    "    $$tf(t,d) = \\frac{freq(t, d)}{\\max_{w \\in d}{freq(w, d)}}$$\n",
    "entre más veces aparece en el documento $d$, $t$ es más importante\n",
    "\n",
    "$idf$ quiere decir _inverse document frequency_; es una medida **global** a la colección $D$, esta definida como:\n",
    "$$ idf(t,d) = log{\\frac{|D|}{1+|{d \\in D: t \\in d}|}} $$\n",
    "entre más veces aparece $t$ en la colección, el término es más común y menos discriminante; por lo tanto, menos importante"
   ]
  },
  {
   "cell_type": "markdown",
   "metadata": {
    "nbpresent": {
     "id": "0cedcc81-a913-4453-81aa-3386a4bbc972"
    },
    "slideshow": {
     "slide_type": "subslide"
    }
   },
   "source": [
    "## Sobre el clasificador ##\n",
    "El clasificador es un algoritmo de aprendizaje computacional que dado un objeto, decide finalmente la etiqueta o clase de ese objeto. Tiene dos etapas bien definidas\n",
    "\n",
    "- **Entrenamiento.** Dado un conjunto de ejemplos en un espacio vectorial, con etiquetas, el algoritmo intenta _aprender_ las características que definen cada clase\n",
    "- **Predicción.** La idea es que una vez entrenado, el algoritmo puede recibir objetos no vistos durante la etapa de entrenamiento y asignales la clase adecuada\n",
    "\n",
    "En particular, esta fijo como un _Support Vector Machine_ (SVM) con kernel lineal\n",
    "\n",
    "\n"
   ]
  },
  {
   "cell_type": "markdown",
   "metadata": {
    "slideshow": {
     "slide_type": "subslide"
    }
   },
   "source": [
    "# ¿Por qué es robusto a errores?\n",
    "\n",
    "Considere los siguientes textos $T=I\\_like\\_vanilla$, $T' = I\\_lik3\\_vanila$\n",
    "\n",
    "Para fijar ideas pongamos que se usar el coeficiente de Jaccard como medida de similitud, i.e.\n",
    "\n",
    "\n",
    "$$\\frac{|\\{{I, like, vanilla}\\} \\cap \\{{I, lik3, vanila}\\}|}{|\\{{I, like, vanilla}\\} \\cup \\{{I, lik3, vanila}\\}|} = 0.2$$\n",
    "\n",
    "\n",
    "$$Q^T_3 = \\{ I\\_l, \\_li, lik, ike, ke\\_, e\\_v, \\_va, van, ani, nil, ill, lla \\}$$\n",
    "$$Q^{T'}_3 = \\{ I\\_l, \\_li, lik, ik3, k3\\_, 3\\_v, \\_va, van, ani, nil, ila \\}$$\n",
    "\n",
    "Bajo la misma medida\n",
    "$$\\frac{|Q^T_3 \\cap Q^{T'}_3|}{|Q^T_3 \\cup Q^{T'}_3|} = 0.448.$$\n",
    "\n",
    "Se puede ver que estos conjuntos son más similares que los tokenizados por palabra\n",
    "\n",
    "La idea es que un algoritmo de aprendizaje tenga un poco más de soporte para determinar que $T$ es parecido a $T'$\n"
   ]
  },
  {
   "cell_type": "code",
   "execution_count": 4,
   "metadata": {
    "collapsed": false,
    "nbpresent": {
     "id": "5702f691-7640-40a3-bd02-1c337dfb6686"
    },
    "scrolled": true,
    "slideshow": {
     "slide_type": "subslide"
    }
   },
   "outputs": [
    {
     "data": {
      "text/markdown": [
       "## Emoticones y emojis clasificados por sentimiento ##\n",
       "## Clase `NONE` ##\n",
       "'~'U  ^( \\\\\\'-\\\\\\' )^  π  ϟ  ಠ~ಠ  ‷̗ↂ凸ↂ‴  ‼  ⁂  ⁉  ⁎  ⁑  ℹ  ↶  ↷  ∨  ∩  ∪  ∴  ⊕  ⊗  ⊚  ⊛  ⊜  ⊥  ⌆  ⌘  ⌥  ⌫  ⎈  ⎋  ⎌  ⏎  ⏏  ╽  ╿  ◉  ●  ◐  ◑  ◒  ◓  ◔  ◕  ◖  ◗  ☄  ☇  ☈  ☉  ☊  ☌  ☍  ☎  ☏  ☛  ☝  ☞  ☤  ☧  ☨  ☩  ☪  ☫  ☬  ☭  ☸  ☿  ♊  ♋  ♌  ♍  ♎  ♏  ♐  ♑  ♒  ♓  ♤  ♨  ♭  ♮  ♯  ♿  ⚒  ⚓  ⚔  ⚕  ⚘  ⚚  ⚜  ⚪  ⚫  ✆  ✇  ✊  ✑  ✠  ✡  ✢  ✣  ✤  ✥  ✦  ✧  ❖  ❗  ❦  ❧  ➖  ➗  ➰  ➷  ➺  ➿  づ  ゞ  ガ  ギ  グ  ゲ  ゴ  ザ  ズ  ゼ  バ  ビ  ヷ  ヹ  ヺ  ㊊  ㊋  ㊌  ㊍  ㊎  ㊏  ㊐  유  ﹢  ﹣  ﹤  ﹥  🀄...\n",
       "## Clase `POS` ##\n",
       "(^L^)  (^‿^)  (°⌣°)  (•‿•)  (｡◕‿◕｡)  *-*  :)  :*  :-)  :-*  :-D  :3  :B  :D  :]  :p  ;)  ;-)  ;D  < (^^,) >  <3  <【☯】‿【☯】>  =)  =D  =^.^=  D:  Dx  XP  ^( \\\\\\'‿\\\\\\' )^  ^.^  ^^  ^_^  ^o^  ^‿^  n_n  q(❂‿❂)p  xD  {◕ ◡ ◕}  |◔◡◉|  ¢‿¢  Ü  ñ.ñ  ñ__ñ  ñ_ñ  ó‿ó  ت  ٩(-̮̮̃-̃)۶  ٩(-̮̮̃•̃)  ٩(^‿^)۶  ٩(͡๏̮͡๏)۶  ٩◔‿◔۶  ಠ◡ಠ  ༺‿༻  ღ  ᵔᴥᵔ  ‍👨❤‍️‍💋👨  ‍👩❤‍️‍💋👨  ‍👩❤‍️‍💋👩  †  ⇧  ⇪  √  ≧◡≦  ⊂◉‿◉つ  ⊙▃⊙  ⋆  ⍟  ┌(ಠ‿ಠ)┘  ╳  ●‿●  ◕‿◕٩(●̮̮̃•̃)۶  ◙‿◙  ☀  ☃  ★  ☆  ☋  ☑  ☕  ☘  ☚  ☜  ☥  ☦  ☮  ☯  ☺  ☻  ☼  ☽  ☾  ♉  ♔  ♕  ♖  ♚  ♛  ♡  ♣  ♥  ♥‿♥  ♧  ♩  ♪  ♫  ♬  ♻  ⚖  ⚛  ⛹  ⛹🏻  ⛹🏼  ⛹🏽  ⛹🏾  ⛹🏿  ✅  ✈  ✉  ✌  ✌🏻  ✌🏼  ✌🏽  ✌🏾  ✌🏿  ✓  ✔  ✙  ✚  ✛  ✜  ✝  ✞  ✟  ✨  ✩  ✪  ✫  ✬  ✭  ✮  ✯  ✰  ✱  ✲  ✳  ✴  ✵  ✶  ✷  ✸  ✹  ✺  ✻  ✼  ✽  ✾  ✿  ❀  ❀‿❀  ❁  ❂  ❃  ❇  ❈  ❉  ❊  ❋  ❕  ❣  ❤  ❤️  ❤️‿❤️  ❥  ➕  ➳  ➵  ➸  ➹  ➻  ➼  ➽  ⭐  シ  ジ  ゾ  ッ  ツ  ヅ  ㋡  乂◜◬◝乂  웃  🌄  🌅  🌷  🌹  🌺  🌻  🌼  🍀  🍻  🍾  🎂  🎄  🎆  🎇  🎈  🎉  🎊  🎑  🎖  🎟  🎧  🎫  🎵  🎶  🎼  🏅  🏆  🏩  🏵  🐭  🐮  🐱  🐵  👋  👋🏻  👋🏼  👋🏽  👋🏾  👋🏿  👌  👌🏻  👌🏼  👌🏽  👌🏾  👌🏿  👍  👍🏻  👍🏼  👍🏽  👍🏾  👍🏿  👎  👎🏻  👎🏼  👎🏽  👎🏾  👎🏿  👏...\n",
       "## Clase `NEU` ##\n",
       "#⃣  $_$  &  (-\\\\\\'\\\\\\'-)  (•̪●)  *⃣  -.-  -_-  ._.  0⃣  1⃣  2⃣  3⃣  4⃣  5⃣  6⃣  7⃣  8-|  8⃣  9⃣  :-|  >:-o  @_@  U_U  n__n  u.u  u_u  v( ‘.’ )v  {•̃̾_•̃̾}  |˚–˚|  ©  ¬¬  ®  ఠ_ఠ  ರ_ರ  ‍👨❤‍️👨  ‍👩❤‍️👨  ‍👩❤‍️👩  ™  ↔  ↕  ↖  ↗  ↘  ↙  ↩  ↪  ⇎_⇎  ⌚  ⌨  ⏩  ⏪  ⏫  ⏬  ⏭  ⏮  ⏯  ⏰  ⏱  ⏲  ⏳  ⏸  ⏹  ⏺  Ⓜ  ▪  ▫  ▶  ◀  ◐.̃◐  ◑.◑  ◔_◔  ◻  ◼  ◽  ◾  ☁  ☝🏻  ☝🏼  ☝🏽  ☝🏾  ☝🏿  ♀  ♁  ♂  ♈  ♗  ♘  ♙  ♜  ♝  ♞  ♟  ♠  ♢  ♦  ⚗  ⚙  ⚰  ⚱  ⚽  ⚾  ⛄  ⛅  ⛈  ⛎  ⛏  ⛑  ⛓  ⛩  ⛪  ⛰  ⛱  ⛲  ⛳  ⛴  ⛵  ⛷  ⛸  ⛺  ⛽  ✋🏻  ✋🏼  ✋🏽  ✋🏾  ✋🏿  ✍  ✍🏻  ✍🏼  ✍🏽  ✍🏾  ✍🏿  ✎  ✏  ✒  ❄  ❅  ❆  ❓  ❔  ➡  ⤴  ⤵  ⬅  ⬆  ⬇  ⬛  ⬜  ⭕  【•】_【•】  〰  〽  ㊗  ㊙  🃏  🅰  🅱  🅾  🅿  🆎  🆑  🆒  🆓  🆔  🆕  🆖  🆗  🆘  🆙  🆚  🇦🇨  🇦🇩  🇦🇪  🇦🇫  🇦🇬  🇦🇮  🇦🇱  🇦🇲  🇦🇴  🇦🇶  🇦🇷  🇦🇸  🇦🇹  🇦🇺  🇦🇼  🇦🇽  🇦🇿  🇧🇦  🇧🇧  🇧🇩  🇧🇪  🇧🇫  🇧🇬  🇧🇭  🇧🇮  🇧🇯  🇧🇱  🇧🇲  🇧🇳  🇧🇴  🇧🇶  🇧🇷  🇧🇸  🇧🇹  🇧🇻  🇧🇼  🇧🇾  🇧🇿  🇨🇦  🇨🇨  🇨🇩  🇨🇫  🇨🇬  🇨🇭  🇨🇮  🇨🇰  🇨🇱  🇨🇲  🇨🇳  🇨🇴  🇨🇵  🇨🇷  🇨🇺  🇨🇻  🇨🇼  🇨🇽  🇨🇾  🇨🇿  🇩🇪  🇩🇬  🇩🇯  🇩🇰  🇩🇲  🇩🇴  🇩🇿  🇪🇦  🇪🇨  🇪🇪  🇪🇬  🇪🇭  🇪🇷  🇪🇸  🇪🇹  🇪🇺  🇫🇮  🇫🇯  🇫🇰  🇫🇲  🇫🇴  🇫🇷  🇬🇦  🇬🇧  🇬🇩  🇬🇪  🇬🇫  🇬🇬  🇬🇭  🇬🇮  🇬🇱  🇬🇲  🇬🇳  🇬🇵 ...\n",
       "## Clase `NEG` ##\n",
       "'n'  (>.<)  (O.O)  (⊙̃.o ⊙.◎)  )-:  ):  ):-/  .l.  /:  :\"(  :'(  :(  :-(  :-/  :-\\  :-o  :-x  :/  :S  :[  :\\  :c  :o  ='(  =(  =S  >.<  >:-(  >:o  ><  >_<  O.o  O.ó  TT  XC  X_X  \\\\\\\\m/(>.<)\\\\\\\\m/  o.Ó  õ.O  x_x  ¬ ¬  ¬ ¬*  ¬¬*  ».«  ò_ó  ॓_॔  ๏_๏  ⊝  ⌛  ⌤  ☂  ☒  ☔  ☟  ☠  ☢  ☣  ☹  ⚠  ⚡  ⛔  ✂  ✊🏻  ✊🏼  ✊🏽  ✊🏾  ✊🏿  ✋  ✕  ✖  ✗  ✘  ❌  ❎  〴⋋_⋌〵  卍  卐  🌁  🎗  👹  👺  👻  👽  👾  👿  💀  💔  💢  💣  💦  💨  💩  💫  📉  🖕  🖕🏻  🖕🏼  🖕🏽  🖕🏾  🖕🏿  🗯  😓  😔  😖  😞  😟  😠  😡  😢  😣  😥  😦  😧  😨  😩  😪  😫  😬  😭  😮  😯  😰  😱  😲  😳  😵  😷  😾  😿  🙀  🙁  🙃  🙅  🙅🏻  🙅🏼  🙅🏽  🙅🏾  🙅🏿  🙈  🙉  🙊  🙎  🙎🏻  🙎🏼  🙎🏽  🙎🏾  🙎🏿  🚫  🚳  🤒  🤕  🤘  🤘🏻  🤘🏼  🤘🏽  🤘🏾  🤘🏿..."
      ],
      "text/plain": [
       "<IPython.core.display.Markdown object>"
      ]
     },
     "execution_count": 4,
     "metadata": {},
     "output_type": "execute_result"
    }
   ],
   "source": [
    "def emoformat(A, emo):\n",
    "    s = \"  \".join([a[0] for a in A if a[1] == emo])\n",
    "    return s[:1000] + \"...\"\n",
    "    \n",
    "with open('microTC/microtc/resources/emoticons.json') as f:\n",
    "    A = list(json.load(f).items())\n",
    "    A.sort()\n",
    "    S = dict(\n",
    "        pos=emoformat(A, '_pos'),\n",
    "        neg=emoformat(A, '_neg'),\n",
    "        neu=emoformat(A, '_neu'),\n",
    "        none=emoformat(A, '_none'),\n",
    "    )\n",
    "\n",
    "output = [\"## Emoticones y emojis clasificados por sentimiento ##\"]\n",
    "for k, v in S.items():\n",
    "    output.append(\"## Clase `{0}` ##\".format(k.upper()))\n",
    "    output.append(v)\n",
    "\n",
    "Markdown(\"\\n\".join(output))"
   ]
  },
  {
   "cell_type": "code",
   "execution_count": 7,
   "metadata": {
    "collapsed": false,
    "nbpresent": {
     "id": "b9e49694-b1e2-47b7-a6ee-c118b8dccf41"
    },
    "slideshow": {
     "slide_type": "subslide"
    }
   },
   "outputs": [
    {
     "data": {
      "text/markdown": [
       "\n",
       "\n",
       "## Tokenizadores Ejemplos ##\n",
       "La codificación es:\n",
       "\n",
       "- entero positivo: q-grama de caracter\n",
       "- entero engativo: w-word (n-grama de palabra)\n",
       "- tupla: skip-gram (tamaño, salto)\n",
       "\n",
       "\n",
       "## Combinaciones de tamaño 1 ##\n",
       "|id|combinación|tokens|\n",
       "|--|-----------|------|\n",
       "|1|(1,)|~, q, u, e, ~, b, u, e, n, a, ~, e, s, t, a, ~, l, a, ~, p, l, a, t, i, c, a, ~|\n",
       "|2|(2,)|~q, qu, ue, e~, ~b, bu, ue, en, na, a~, ~e, es, st, ta, a~, ~l, la, a~, ~p, pl, la, at, ti, ic, ca, a~|\n",
       "|3|(3,)|~qu, que, ue~, e~b, ~bu, bue, uen, ena, na~, a~e, ~es, est, sta, ta~, a~l, ~la, la~, a~p, ~pl, pla, lat, ati, tic, ica, ca~|\n",
       "|4|(-1,)|que, buena, esta, la, platica|\n",
       "|5|(-2,)|que~buena, buena~esta, esta~la, la~platica|\n",
       "|6|((2, 1),)|que~esta, buena~la, esta~platica|\n",
       "|7|((2, 2),)|que~la, buena~platica|\n",
       "## Combinaciones de tamaño 2 ##\n",
       "|id|combinación|tokens|\n",
       "|--|-----------|------|\n",
       "|8|(1, 2)|~, q, u, e, ~, b, u, e, n, a, ~, e, s, t, a, ~, l, a, ~, p, l, a, t, i, c, a, ~, ~q, qu, ue, e~, ~b, bu, ue, en, na, a~, ~e, es, st, ta, a~, ~l, la, a~, ~p, pl, la, at, ti, ic, ca, a~|\n",
       "|9|(1, 3)|~, q, u, e, ~, b, u, e, n, a, ~, e, s, t, a, ~, l, a, ~, p, l, a, t, i, c, a, ~, ~qu, que, ue~, e~b, ~bu, bue, uen, ena, na~, a~e, ~es, est, sta, ta~, a~l, ~la, la~, a~p, ~pl, pla, lat, ati, tic, ica, ca~|\n",
       "|10|(1, -1)|~, q, u, e, ~, b, u, e, n, a, ~, e, s, t, a, ~, l, a, ~, p, l, a, t, i, c, a, ~, que, buena, esta, la, platica|\n",
       "|11|(1, -2)|~, q, u, e, ~, b, u, e, n, a, ~, e, s, t, a, ~, l, a, ~, p, l, a, t, i, c, a, ~, que~buena, buena~esta, esta~la, la~platica|\n",
       "|12|(1, (2, 1))|~, q, u, e, ~, b, u, e, n, a, ~, e, s, t, a, ~, l, a, ~, p, l, a, t, i, c, a, ~, que~esta, buena~la, esta~platica|\n",
       "|13|(1, (2, 2))|~, q, u, e, ~, b, u, e, n, a, ~, e, s, t, a, ~, l, a, ~, p, l, a, t, i, c, a, ~, que~la, buena~platica|\n",
       "|14|(2, 3)|~q, qu, ue, e~, ~b, bu, ue, en, na, a~, ~e, es, st, ta, a~, ~l, la, a~, ~p, pl, la, at, ti, ic, ca, a~, ~qu, que, ue~, e~b, ~bu, bue, uen, ena, na~, a~e, ~es, est, sta, ta~, a~l, ~la, la~, a~p, ~pl, pla, lat, ati, tic, ica, ca~|\n",
       "|15|(2, -1)|~q, qu, ue, e~, ~b, bu, ue, en, na, a~, ~e, es, st, ta, a~, ~l, la, a~, ~p, pl, la, at, ti, ic, ca, a~, que, buena, esta, la, platica|\n",
       "|16|(2, -2)|~q, qu, ue, e~, ~b, bu, ue, en, na, a~, ~e, es, st, ta, a~, ~l, la, a~, ~p, pl, la, at, ti, ic, ca, a~, que~buena, buena~esta, esta~la, la~platica|\n",
       "|17|(2, (2, 1))|~q, qu, ue, e~, ~b, bu, ue, en, na, a~, ~e, es, st, ta, a~, ~l, la, a~, ~p, pl, la, at, ti, ic, ca, a~, que~esta, buena~la, esta~platica|\n",
       "|18|(2, (2, 2))|~q, qu, ue, e~, ~b, bu, ue, en, na, a~, ~e, es, st, ta, a~, ~l, la, a~, ~p, pl, la, at, ti, ic, ca, a~, que~la, buena~platica|\n",
       "|19|(3, -1)|~qu, que, ue~, e~b, ~bu, bue, uen, ena, na~, a~e, ~es, est, sta, ta~, a~l, ~la, la~, a~p, ~pl, pla, lat, ati, tic, ica, ca~, que, buena, esta, la, platica|\n",
       "|20|(3, -2)|~qu, que, ue~, e~b, ~bu, bue, uen, ena, na~, a~e, ~es, est, sta, ta~, a~l, ~la, la~, a~p, ~pl, pla, lat, ati, tic, ica, ca~, que~buena, buena~esta, esta~la, la~platica|\n",
       "|21|(3, (2, 1))|~qu, que, ue~, e~b, ~bu, bue, uen, ena, na~, a~e, ~es, est, sta, ta~, a~l, ~la, la~, a~p, ~pl, pla, lat, ati, tic, ica, ca~, que~esta, buena~la, esta~platica|\n",
       "|22|(3, (2, 2))|~qu, que, ue~, e~b, ~bu, bue, uen, ena, na~, a~e, ~es, est, sta, ta~, a~l, ~la, la~, a~p, ~pl, pla, lat, ati, tic, ica, ca~, que~la, buena~platica|\n",
       "|23|(-1, -2)|que, buena, esta, la, platica, que~buena, buena~esta, esta~la, la~platica|\n",
       "|24|(-1, (2, 1))|que, buena, esta, la, platica, que~esta, buena~la, esta~platica|\n",
       "|25|(-1, (2, 2))|que, buena, esta, la, platica, que~la, buena~platica|\n",
       "|26|(-2, (2, 1))|que~buena, buena~esta, esta~la, la~platica, que~esta, buena~la, esta~platica|\n",
       "|27|(-2, (2, 2))|que~buena, buena~esta, esta~la, la~platica, que~la, buena~platica|\n",
       "|28|((2, 1), (2, 2))|que~esta, buena~la, esta~platica, que~la, buena~platica|\n",
       "## Combinaciones de tamaño 3 ##\n",
       "|id|combinación|tokens|\n",
       "|--|-----------|------|\n",
       "|29|(1, 2, 3)|~, q, u, e, ~, b, u, e, n, a, ~, e, s, t, a, ~, l, a, ~, p, l, a, t, i, c, a, ~, ~q, qu, ue, e~, ~b, bu, ue, en, na, a~, ~e, es, st, ta, a~, ~l, la, a~, ~p, pl, la, at, ti, ic, ca, a~, ~qu, que, ue~, e~b, ~bu, bue, uen, ena, na~, a~e, ~es, est, sta, ta~, a~l, ~la, la~, a~p, ~pl, pla, lat, ati, tic, ica, ca~|\n",
       "|30|(1, 2, -1)|~, q, u, e, ~, b, u, e, n, a, ~, e, s, t, a, ~, l, a, ~, p, l, a, t, i, c, a, ~, ~q, qu, ue, e~, ~b, bu, ue, en, na, a~, ~e, es, st, ta, a~, ~l, la, a~, ~p, pl, la, at, ti, ic, ca, a~, que, buena, esta, la, platica|\n",
       "|31|(1, 2, -2)|~, q, u, e, ~, b, u, e, n, a, ~, e, s, t, a, ~, l, a, ~, p, l, a, t, i, c, a, ~, ~q, qu, ue, e~, ~b, bu, ue, en, na, a~, ~e, es, st, ta, a~, ~l, la, a~, ~p, pl, la, at, ti, ic, ca, a~, que~buena, buena~esta, esta~la, la~platica|\n",
       "|32|(1, 2, (2, 1))|~, q, u, e, ~, b, u, e, n, a, ~, e, s, t, a, ~, l, a, ~, p, l, a, t, i, c, a, ~, ~q, qu, ue, e~, ~b, bu, ue, en, na, a~, ~e, es, st, ta, a~, ~l, la, a~, ~p, pl, la, at, ti, ic, ca, a~, que~esta, buena~la, esta~platica|\n",
       "|33|(1, 2, (2, 2))|~, q, u, e, ~, b, u, e, n, a, ~, e, s, t, a, ~, l, a, ~, p, l, a, t, i, c, a, ~, ~q, qu, ue, e~, ~b, bu, ue, en, na, a~, ~e, es, st, ta, a~, ~l, la, a~, ~p, pl, la, at, ti, ic, ca, a~, que~la, buena~platica|\n",
       "|34|(1, 3, -1)|~, q, u, e, ~, b, u, e, n, a, ~, e, s, t, a, ~, l, a, ~, p, l, a, t, i, c, a, ~, ~qu, que, ue~, e~b, ~bu, bue, uen, ena, na~, a~e, ~es, est, sta, ta~, a~l, ~la, la~, a~p, ~pl, pla, lat, ati, tic, ica, ca~, que, buena, esta, la, platica|\n",
       "|35|(1, 3, -2)|~, q, u, e, ~, b, u, e, n, a, ~, e, s, t, a, ~, l, a, ~, p, l, a, t, i, c, a, ~, ~qu, que, ue~, e~b, ~bu, bue, uen, ena, na~, a~e, ~es, est, sta, ta~, a~l, ~la, la~, a~p, ~pl, pla, lat, ati, tic, ica, ca~, que~buena, buena~esta, esta~la, la~platica|\n",
       "|36|(1, 3, (2, 1))|~, q, u, e, ~, b, u, e, n, a, ~, e, s, t, a, ~, l, a, ~, p, l, a, t, i, c, a, ~, ~qu, que, ue~, e~b, ~bu, bue, uen, ena, na~, a~e, ~es, est, sta, ta~, a~l, ~la, la~, a~p, ~pl, pla, lat, ati, tic, ica, ca~, que~esta, buena~la, esta~platica|\n",
       "|37|(1, 3, (2, 2))|~, q, u, e, ~, b, u, e, n, a, ~, e, s, t, a, ~, l, a, ~, p, l, a, t, i, c, a, ~, ~qu, que, ue~, e~b, ~bu, bue, uen, ena, na~, a~e, ~es, est, sta, ta~, a~l, ~la, la~, a~p, ~pl, pla, lat, ati, tic, ica, ca~, que~la, buena~platica|\n",
       "|38|(1, -1, -2)|~, q, u, e, ~, b, u, e, n, a, ~, e, s, t, a, ~, l, a, ~, p, l, a, t, i, c, a, ~, que, buena, esta, la, platica, que~buena, buena~esta, esta~la, la~platica|\n",
       "|39|(1, -1, (2, 1))|~, q, u, e, ~, b, u, e, n, a, ~, e, s, t, a, ~, l, a, ~, p, l, a, t, i, c, a, ~, que, buena, esta, la, platica, que~esta, buena~la, esta~platica|\n",
       "|40|(1, -1, (2, 2))|~, q, u, e, ~, b, u, e, n, a, ~, e, s, t, a, ~, l, a, ~, p, l, a, t, i, c, a, ~, que, buena, esta, la, platica, que~la, buena~platica|\n",
       "|41|(1, -2, (2, 1))|~, q, u, e, ~, b, u, e, n, a, ~, e, s, t, a, ~, l, a, ~, p, l, a, t, i, c, a, ~, que~buena, buena~esta, esta~la, la~platica, que~esta, buena~la, esta~platica|\n",
       "|42|(1, -2, (2, 2))|~, q, u, e, ~, b, u, e, n, a, ~, e, s, t, a, ~, l, a, ~, p, l, a, t, i, c, a, ~, que~buena, buena~esta, esta~la, la~platica, que~la, buena~platica|\n",
       "|43|(1, (2, 1), (2, 2))|~, q, u, e, ~, b, u, e, n, a, ~, e, s, t, a, ~, l, a, ~, p, l, a, t, i, c, a, ~, que~esta, buena~la, esta~platica, que~la, buena~platica|\n",
       "|44|(2, 3, -1)|~q, qu, ue, e~, ~b, bu, ue, en, na, a~, ~e, es, st, ta, a~, ~l, la, a~, ~p, pl, la, at, ti, ic, ca, a~, ~qu, que, ue~, e~b, ~bu, bue, uen, ena, na~, a~e, ~es, est, sta, ta~, a~l, ~la, la~, a~p, ~pl, pla, lat, ati, tic, ica, ca~, que, buena, esta, la, platica|\n",
       "|45|(2, 3, -2)|~q, qu, ue, e~, ~b, bu, ue, en, na, a~, ~e, es, st, ta, a~, ~l, la, a~, ~p, pl, la, at, ti, ic, ca, a~, ~qu, que, ue~, e~b, ~bu, bue, uen, ena, na~, a~e, ~es, est, sta, ta~, a~l, ~la, la~, a~p, ~pl, pla, lat, ati, tic, ica, ca~, que~buena, buena~esta, esta~la, la~platica|\n",
       "|46|(2, 3, (2, 1))|~q, qu, ue, e~, ~b, bu, ue, en, na, a~, ~e, es, st, ta, a~, ~l, la, a~, ~p, pl, la, at, ti, ic, ca, a~, ~qu, que, ue~, e~b, ~bu, bue, uen, ena, na~, a~e, ~es, est, sta, ta~, a~l, ~la, la~, a~p, ~pl, pla, lat, ati, tic, ica, ca~, que~esta, buena~la, esta~platica|\n",
       "|47|(2, 3, (2, 2))|~q, qu, ue, e~, ~b, bu, ue, en, na, a~, ~e, es, st, ta, a~, ~l, la, a~, ~p, pl, la, at, ti, ic, ca, a~, ~qu, que, ue~, e~b, ~bu, bue, uen, ena, na~, a~e, ~es, est, sta, ta~, a~l, ~la, la~, a~p, ~pl, pla, lat, ati, tic, ica, ca~, que~la, buena~platica|\n",
       "|48|(2, -1, -2)|~q, qu, ue, e~, ~b, bu, ue, en, na, a~, ~e, es, st, ta, a~, ~l, la, a~, ~p, pl, la, at, ti, ic, ca, a~, que, buena, esta, la, platica, que~buena, buena~esta, esta~la, la~platica|\n",
       "|49|(2, -1, (2, 1))|~q, qu, ue, e~, ~b, bu, ue, en, na, a~, ~e, es, st, ta, a~, ~l, la, a~, ~p, pl, la, at, ti, ic, ca, a~, que, buena, esta, la, platica, que~esta, buena~la, esta~platica|\n",
       "|50|(2, -1, (2, 2))|~q, qu, ue, e~, ~b, bu, ue, en, na, a~, ~e, es, st, ta, a~, ~l, la, a~, ~p, pl, la, at, ti, ic, ca, a~, que, buena, esta, la, platica, que~la, buena~platica|\n",
       "|51|(2, -2, (2, 1))|~q, qu, ue, e~, ~b, bu, ue, en, na, a~, ~e, es, st, ta, a~, ~l, la, a~, ~p, pl, la, at, ti, ic, ca, a~, que~buena, buena~esta, esta~la, la~platica, que~esta, buena~la, esta~platica|\n",
       "|52|(2, -2, (2, 2))|~q, qu, ue, e~, ~b, bu, ue, en, na, a~, ~e, es, st, ta, a~, ~l, la, a~, ~p, pl, la, at, ti, ic, ca, a~, que~buena, buena~esta, esta~la, la~platica, que~la, buena~platica|\n",
       "|53|(2, (2, 1), (2, 2))|~q, qu, ue, e~, ~b, bu, ue, en, na, a~, ~e, es, st, ta, a~, ~l, la, a~, ~p, pl, la, at, ti, ic, ca, a~, que~esta, buena~la, esta~platica, que~la, buena~platica|\n",
       "|54|(3, -1, -2)|~qu, que, ue~, e~b, ~bu, bue, uen, ena, na~, a~e, ~es, est, sta, ta~, a~l, ~la, la~, a~p, ~pl, pla, lat, ati, tic, ica, ca~, que, buena, esta, la, platica, que~buena, buena~esta, esta~la, la~platica|\n",
       "|55|(3, -1, (2, 1))|~qu, que, ue~, e~b, ~bu, bue, uen, ena, na~, a~e, ~es, est, sta, ta~, a~l, ~la, la~, a~p, ~pl, pla, lat, ati, tic, ica, ca~, que, buena, esta, la, platica, que~esta, buena~la, esta~platica|\n",
       "|56|(3, -1, (2, 2))|~qu, que, ue~, e~b, ~bu, bue, uen, ena, na~, a~e, ~es, est, sta, ta~, a~l, ~la, la~, a~p, ~pl, pla, lat, ati, tic, ica, ca~, que, buena, esta, la, platica, que~la, buena~platica|\n",
       "|57|(3, -2, (2, 1))|~qu, que, ue~, e~b, ~bu, bue, uen, ena, na~, a~e, ~es, est, sta, ta~, a~l, ~la, la~, a~p, ~pl, pla, lat, ati, tic, ica, ca~, que~buena, buena~esta, esta~la, la~platica, que~esta, buena~la, esta~platica|\n",
       "|58|(3, -2, (2, 2))|~qu, que, ue~, e~b, ~bu, bue, uen, ena, na~, a~e, ~es, est, sta, ta~, a~l, ~la, la~, a~p, ~pl, pla, lat, ati, tic, ica, ca~, que~buena, buena~esta, esta~la, la~platica, que~la, buena~platica|\n",
       "|59|(3, (2, 1), (2, 2))|~qu, que, ue~, e~b, ~bu, bue, uen, ena, na~, a~e, ~es, est, sta, ta~, a~l, ~la, la~, a~p, ~pl, pla, lat, ati, tic, ica, ca~, que~esta, buena~la, esta~platica, que~la, buena~platica|\n",
       "|60|(-1, -2, (2, 1))|que, buena, esta, la, platica, que~buena, buena~esta, esta~la, la~platica, que~esta, buena~la, esta~platica|\n",
       "|61|(-1, -2, (2, 2))|que, buena, esta, la, platica, que~buena, buena~esta, esta~la, la~platica, que~la, buena~platica|\n",
       "|62|(-1, (2, 1), (2, 2))|que, buena, esta, la, platica, que~esta, buena~la, esta~platica, que~la, buena~platica|\n",
       "|63|(-2, (2, 1), (2, 2))|que~buena, buena~esta, esta~la, la~platica, que~esta, buena~la, esta~platica, que~la, buena~platica|\n",
       "## Combinaciones de tamaño 4 ##\n",
       "|id|combinación|tokens|\n",
       "|--|-----------|------|\n",
       "|64|(1, 2, 3, -1)|~, q, u, e, ~, b, u, e, n, a, ~, e, s, t, a, ~, l, a, ~, p, l, a, t, i, c, a, ~, ~q, qu, ue, e~, ~b, bu, ue, en, na, a~, ~e, es, st, ta, a~, ~l, la, a~, ~p, pl, la, at, ti, ic, ca, a~, ~qu, que, ue~, e~b, ~bu, bue, uen, ena, na~, a~e, ~es, est, sta, ta~, a~l, ~la, la~, a~p, ~pl, pla, lat, ati, tic, ica, ca~, que, buena, esta, la, platica|\n",
       "|65|(1, 2, 3, -2)|~, q, u, e, ~, b, u, e, n, a, ~, e, s, t, a, ~, l, a, ~, p, l, a, t, i, c, a, ~, ~q, qu, ue, e~, ~b, bu, ue, en, na, a~, ~e, es, st, ta, a~, ~l, la, a~, ~p, pl, la, at, ti, ic, ca, a~, ~qu, que, ue~, e~b, ~bu, bue, uen, ena, na~, a~e, ~es, est, sta, ta~, a~l, ~la, la~, a~p, ~pl, pla, lat, ati, tic, ica, ca~, que~buena, buena~esta, esta~la, la~platica|\n",
       "|66|(1, 2, 3, (2, 1))|~, q, u, e, ~, b, u, e, n, a, ~, e, s, t, a, ~, l, a, ~, p, l, a, t, i, c, a, ~, ~q, qu, ue, e~, ~b, bu, ue, en, na, a~, ~e, es, st, ta, a~, ~l, la, a~, ~p, pl, la, at, ti, ic, ca, a~, ~qu, que, ue~, e~b, ~bu, bue, uen, ena, na~, a~e, ~es, est, sta, ta~, a~l, ~la, la~, a~p, ~pl, pla, lat, ati, tic, ica, ca~, que~esta, buena~la, esta~platica|\n",
       "|67|(1, 2, 3, (2, 2))|~, q, u, e, ~, b, u, e, n, a, ~, e, s, t, a, ~, l, a, ~, p, l, a, t, i, c, a, ~, ~q, qu, ue, e~, ~b, bu, ue, en, na, a~, ~e, es, st, ta, a~, ~l, la, a~, ~p, pl, la, at, ti, ic, ca, a~, ~qu, que, ue~, e~b, ~bu, bue, uen, ena, na~, a~e, ~es, est, sta, ta~, a~l, ~la, la~, a~p, ~pl, pla, lat, ati, tic, ica, ca~, que~la, buena~platica|\n",
       "|68|(1, 2, -1, -2)|~, q, u, e, ~, b, u, e, n, a, ~, e, s, t, a, ~, l, a, ~, p, l, a, t, i, c, a, ~, ~q, qu, ue, e~, ~b, bu, ue, en, na, a~, ~e, es, st, ta, a~, ~l, la, a~, ~p, pl, la, at, ti, ic, ca, a~, que, buena, esta, la, platica, que~buena, buena~esta, esta~la, la~platica|\n",
       "|69|(1, 2, -1, (2, 1))|~, q, u, e, ~, b, u, e, n, a, ~, e, s, t, a, ~, l, a, ~, p, l, a, t, i, c, a, ~, ~q, qu, ue, e~, ~b, bu, ue, en, na, a~, ~e, es, st, ta, a~, ~l, la, a~, ~p, pl, la, at, ti, ic, ca, a~, que, buena, esta, la, platica, que~esta, buena~la, esta~platica|\n",
       "|70|(1, 2, -1, (2, 2))|~, q, u, e, ~, b, u, e, n, a, ~, e, s, t, a, ~, l, a, ~, p, l, a, t, i, c, a, ~, ~q, qu, ue, e~, ~b, bu, ue, en, na, a~, ~e, es, st, ta, a~, ~l, la, a~, ~p, pl, la, at, ti, ic, ca, a~, que, buena, esta, la, platica, que~la, buena~platica|\n",
       "|71|(1, 2, -2, (2, 1))|~, q, u, e, ~, b, u, e, n, a, ~, e, s, t, a, ~, l, a, ~, p, l, a, t, i, c, a, ~, ~q, qu, ue, e~, ~b, bu, ue, en, na, a~, ~e, es, st, ta, a~, ~l, la, a~, ~p, pl, la, at, ti, ic, ca, a~, que~buena, buena~esta, esta~la, la~platica, que~esta, buena~la, esta~platica|\n",
       "|72|(1, 2, -2, (2, 2))|~, q, u, e, ~, b, u, e, n, a, ~, e, s, t, a, ~, l, a, ~, p, l, a, t, i, c, a, ~, ~q, qu, ue, e~, ~b, bu, ue, en, na, a~, ~e, es, st, ta, a~, ~l, la, a~, ~p, pl, la, at, ti, ic, ca, a~, que~buena, buena~esta, esta~la, la~platica, que~la, buena~platica|\n",
       "|73|(1, 2, (2, 1), (2, 2))|~, q, u, e, ~, b, u, e, n, a, ~, e, s, t, a, ~, l, a, ~, p, l, a, t, i, c, a, ~, ~q, qu, ue, e~, ~b, bu, ue, en, na, a~, ~e, es, st, ta, a~, ~l, la, a~, ~p, pl, la, at, ti, ic, ca, a~, que~esta, buena~la, esta~platica, que~la, buena~platica|\n",
       "|74|(1, 3, -1, -2)|~, q, u, e, ~, b, u, e, n, a, ~, e, s, t, a, ~, l, a, ~, p, l, a, t, i, c, a, ~, ~qu, que, ue~, e~b, ~bu, bue, uen, ena, na~, a~e, ~es, est, sta, ta~, a~l, ~la, la~, a~p, ~pl, pla, lat, ati, tic, ica, ca~, que, buena, esta, la, platica, que~buena, buena~esta, esta~la, la~platica|\n",
       "|75|(1, 3, -1, (2, 1))|~, q, u, e, ~, b, u, e, n, a, ~, e, s, t, a, ~, l, a, ~, p, l, a, t, i, c, a, ~, ~qu, que, ue~, e~b, ~bu, bue, uen, ena, na~, a~e, ~es, est, sta, ta~, a~l, ~la, la~, a~p, ~pl, pla, lat, ati, tic, ica, ca~, que, buena, esta, la, platica, que~esta, buena~la, esta~platica|\n",
       "|76|(1, 3, -1, (2, 2))|~, q, u, e, ~, b, u, e, n, a, ~, e, s, t, a, ~, l, a, ~, p, l, a, t, i, c, a, ~, ~qu, que, ue~, e~b, ~bu, bue, uen, ena, na~, a~e, ~es, est, sta, ta~, a~l, ~la, la~, a~p, ~pl, pla, lat, ati, tic, ica, ca~, que, buena, esta, la, platica, que~la, buena~platica|\n",
       "|77|(1, 3, -2, (2, 1))|~, q, u, e, ~, b, u, e, n, a, ~, e, s, t, a, ~, l, a, ~, p, l, a, t, i, c, a, ~, ~qu, que, ue~, e~b, ~bu, bue, uen, ena, na~, a~e, ~es, est, sta, ta~, a~l, ~la, la~, a~p, ~pl, pla, lat, ati, tic, ica, ca~, que~buena, buena~esta, esta~la, la~platica, que~esta, buena~la, esta~platica|\n",
       "|78|(1, 3, -2, (2, 2))|~, q, u, e, ~, b, u, e, n, a, ~, e, s, t, a, ~, l, a, ~, p, l, a, t, i, c, a, ~, ~qu, que, ue~, e~b, ~bu, bue, uen, ena, na~, a~e, ~es, est, sta, ta~, a~l, ~la, la~, a~p, ~pl, pla, lat, ati, tic, ica, ca~, que~buena, buena~esta, esta~la, la~platica, que~la, buena~platica|\n",
       "|79|(1, 3, (2, 1), (2, 2))|~, q, u, e, ~, b, u, e, n, a, ~, e, s, t, a, ~, l, a, ~, p, l, a, t, i, c, a, ~, ~qu, que, ue~, e~b, ~bu, bue, uen, ena, na~, a~e, ~es, est, sta, ta~, a~l, ~la, la~, a~p, ~pl, pla, lat, ati, tic, ica, ca~, que~esta, buena~la, esta~platica, que~la, buena~platica|\n",
       "|80|(1, -1, -2, (2, 1))|~, q, u, e, ~, b, u, e, n, a, ~, e, s, t, a, ~, l, a, ~, p, l, a, t, i, c, a, ~, que, buena, esta, la, platica, que~buena, buena~esta, esta~la, la~platica, que~esta, buena~la, esta~platica|\n",
       "|81|(1, -1, -2, (2, 2))|~, q, u, e, ~, b, u, e, n, a, ~, e, s, t, a, ~, l, a, ~, p, l, a, t, i, c, a, ~, que, buena, esta, la, platica, que~buena, buena~esta, esta~la, la~platica, que~la, buena~platica|\n",
       "|82|(1, -1, (2, 1), (2, 2))|~, q, u, e, ~, b, u, e, n, a, ~, e, s, t, a, ~, l, a, ~, p, l, a, t, i, c, a, ~, que, buena, esta, la, platica, que~esta, buena~la, esta~platica, que~la, buena~platica|\n",
       "|83|(1, -2, (2, 1), (2, 2))|~, q, u, e, ~, b, u, e, n, a, ~, e, s, t, a, ~, l, a, ~, p, l, a, t, i, c, a, ~, que~buena, buena~esta, esta~la, la~platica, que~esta, buena~la, esta~platica, que~la, buena~platica|\n",
       "|84|(2, 3, -1, -2)|~q, qu, ue, e~, ~b, bu, ue, en, na, a~, ~e, es, st, ta, a~, ~l, la, a~, ~p, pl, la, at, ti, ic, ca, a~, ~qu, que, ue~, e~b, ~bu, bue, uen, ena, na~, a~e, ~es, est, sta, ta~, a~l, ~la, la~, a~p, ~pl, pla, lat, ati, tic, ica, ca~, que, buena, esta, la, platica, que~buena, buena~esta, esta~la, la~platica|\n",
       "|85|(2, 3, -1, (2, 1))|~q, qu, ue, e~, ~b, bu, ue, en, na, a~, ~e, es, st, ta, a~, ~l, la, a~, ~p, pl, la, at, ti, ic, ca, a~, ~qu, que, ue~, e~b, ~bu, bue, uen, ena, na~, a~e, ~es, est, sta, ta~, a~l, ~la, la~, a~p, ~pl, pla, lat, ati, tic, ica, ca~, que, buena, esta, la, platica, que~esta, buena~la, esta~platica|\n",
       "|86|(2, 3, -1, (2, 2))|~q, qu, ue, e~, ~b, bu, ue, en, na, a~, ~e, es, st, ta, a~, ~l, la, a~, ~p, pl, la, at, ti, ic, ca, a~, ~qu, que, ue~, e~b, ~bu, bue, uen, ena, na~, a~e, ~es, est, sta, ta~, a~l, ~la, la~, a~p, ~pl, pla, lat, ati, tic, ica, ca~, que, buena, esta, la, platica, que~la, buena~platica|\n",
       "|87|(2, 3, -2, (2, 1))|~q, qu, ue, e~, ~b, bu, ue, en, na, a~, ~e, es, st, ta, a~, ~l, la, a~, ~p, pl, la, at, ti, ic, ca, a~, ~qu, que, ue~, e~b, ~bu, bue, uen, ena, na~, a~e, ~es, est, sta, ta~, a~l, ~la, la~, a~p, ~pl, pla, lat, ati, tic, ica, ca~, que~buena, buena~esta, esta~la, la~platica, que~esta, buena~la, esta~platica|\n",
       "|88|(2, 3, -2, (2, 2))|~q, qu, ue, e~, ~b, bu, ue, en, na, a~, ~e, es, st, ta, a~, ~l, la, a~, ~p, pl, la, at, ti, ic, ca, a~, ~qu, que, ue~, e~b, ~bu, bue, uen, ena, na~, a~e, ~es, est, sta, ta~, a~l, ~la, la~, a~p, ~pl, pla, lat, ati, tic, ica, ca~, que~buena, buena~esta, esta~la, la~platica, que~la, buena~platica|\n",
       "|89|(2, 3, (2, 1), (2, 2))|~q, qu, ue, e~, ~b, bu, ue, en, na, a~, ~e, es, st, ta, a~, ~l, la, a~, ~p, pl, la, at, ti, ic, ca, a~, ~qu, que, ue~, e~b, ~bu, bue, uen, ena, na~, a~e, ~es, est, sta, ta~, a~l, ~la, la~, a~p, ~pl, pla, lat, ati, tic, ica, ca~, que~esta, buena~la, esta~platica, que~la, buena~platica|\n",
       "|90|(2, -1, -2, (2, 1))|~q, qu, ue, e~, ~b, bu, ue, en, na, a~, ~e, es, st, ta, a~, ~l, la, a~, ~p, pl, la, at, ti, ic, ca, a~, que, buena, esta, la, platica, que~buena, buena~esta, esta~la, la~platica, que~esta, buena~la, esta~platica|\n",
       "|91|(2, -1, -2, (2, 2))|~q, qu, ue, e~, ~b, bu, ue, en, na, a~, ~e, es, st, ta, a~, ~l, la, a~, ~p, pl, la, at, ti, ic, ca, a~, que, buena, esta, la, platica, que~buena, buena~esta, esta~la, la~platica, que~la, buena~platica|\n",
       "|92|(2, -1, (2, 1), (2, 2))|~q, qu, ue, e~, ~b, bu, ue, en, na, a~, ~e, es, st, ta, a~, ~l, la, a~, ~p, pl, la, at, ti, ic, ca, a~, que, buena, esta, la, platica, que~esta, buena~la, esta~platica, que~la, buena~platica|\n",
       "|93|(2, -2, (2, 1), (2, 2))|~q, qu, ue, e~, ~b, bu, ue, en, na, a~, ~e, es, st, ta, a~, ~l, la, a~, ~p, pl, la, at, ti, ic, ca, a~, que~buena, buena~esta, esta~la, la~platica, que~esta, buena~la, esta~platica, que~la, buena~platica|\n",
       "|94|(3, -1, -2, (2, 1))|~qu, que, ue~, e~b, ~bu, bue, uen, ena, na~, a~e, ~es, est, sta, ta~, a~l, ~la, la~, a~p, ~pl, pla, lat, ati, tic, ica, ca~, que, buena, esta, la, platica, que~buena, buena~esta, esta~la, la~platica, que~esta, buena~la, esta~platica|\n",
       "|95|(3, -1, -2, (2, 2))|~qu, que, ue~, e~b, ~bu, bue, uen, ena, na~, a~e, ~es, est, sta, ta~, a~l, ~la, la~, a~p, ~pl, pla, lat, ati, tic, ica, ca~, que, buena, esta, la, platica, que~buena, buena~esta, esta~la, la~platica, que~la, buena~platica|\n",
       "|96|(3, -1, (2, 1), (2, 2))|~qu, que, ue~, e~b, ~bu, bue, uen, ena, na~, a~e, ~es, est, sta, ta~, a~l, ~la, la~, a~p, ~pl, pla, lat, ati, tic, ica, ca~, que, buena, esta, la, platica, que~esta, buena~la, esta~platica, que~la, buena~platica|\n",
       "|97|(3, -2, (2, 1), (2, 2))|~qu, que, ue~, e~b, ~bu, bue, uen, ena, na~, a~e, ~es, est, sta, ta~, a~l, ~la, la~, a~p, ~pl, pla, lat, ati, tic, ica, ca~, que~buena, buena~esta, esta~la, la~platica, que~esta, buena~la, esta~platica, que~la, buena~platica|\n",
       "|98|(-1, -2, (2, 1), (2, 2))|que, buena, esta, la, platica, que~buena, buena~esta, esta~la, la~platica, que~esta, buena~la, esta~platica, que~la, buena~platica|\n",
       "## Combinaciones de tamaño 5 ##\n",
       "|id|combinación|tokens|\n",
       "|--|-----------|------|\n",
       "|99|(1, 2, 3, -1, -2)|~, q, u, e, ~, b, u, e, n, a, ~, e, s, t, a, ~, l, a, ~, p, l, a, t, i, c, a, ~, ~q, qu, ue, e~, ~b, bu, ue, en, na, a~, ~e, es, st, ta, a~, ~l, la, a~, ~p, pl, la, at, ti, ic, ca, a~, ~qu, que, ue~, e~b, ~bu, bue, uen, ena, na~, a~e, ~es, est, sta, ta~, a~l, ~la, la~, a~p, ~pl, pla, lat, ati, tic, ica, ca~, que, buena, esta, la, platica, que~buena, buena~esta, esta~la, la~platica|\n",
       "|100|(1, 2, 3, -1, (2, 1))|~, q, u, e, ~, b, u, e, n, a, ~, e, s, t, a, ~, l, a, ~, p, l, a, t, i, c, a, ~, ~q, qu, ue, e~, ~b, bu, ue, en, na, a~, ~e, es, st, ta, a~, ~l, la, a~, ~p, pl, la, at, ti, ic, ca, a~, ~qu, que, ue~, e~b, ~bu, bue, uen, ena, na~, a~e, ~es, est, sta, ta~, a~l, ~la, la~, a~p, ~pl, pla, lat, ati, tic, ica, ca~, que, buena, esta, la, platica, que~esta, buena~la, esta~platica|\n",
       "|101|(1, 2, 3, -1, (2, 2))|~, q, u, e, ~, b, u, e, n, a, ~, e, s, t, a, ~, l, a, ~, p, l, a, t, i, c, a, ~, ~q, qu, ue, e~, ~b, bu, ue, en, na, a~, ~e, es, st, ta, a~, ~l, la, a~, ~p, pl, la, at, ti, ic, ca, a~, ~qu, que, ue~, e~b, ~bu, bue, uen, ena, na~, a~e, ~es, est, sta, ta~, a~l, ~la, la~, a~p, ~pl, pla, lat, ati, tic, ica, ca~, que, buena, esta, la, platica, que~la, buena~platica|\n",
       "|102|(1, 2, 3, -2, (2, 1))|~, q, u, e, ~, b, u, e, n, a, ~, e, s, t, a, ~, l, a, ~, p, l, a, t, i, c, a, ~, ~q, qu, ue, e~, ~b, bu, ue, en, na, a~, ~e, es, st, ta, a~, ~l, la, a~, ~p, pl, la, at, ti, ic, ca, a~, ~qu, que, ue~, e~b, ~bu, bue, uen, ena, na~, a~e, ~es, est, sta, ta~, a~l, ~la, la~, a~p, ~pl, pla, lat, ati, tic, ica, ca~, que~buena, buena~esta, esta~la, la~platica, que~esta, buena~la, esta~platica|\n",
       "|103|(1, 2, 3, -2, (2, 2))|~, q, u, e, ~, b, u, e, n, a, ~, e, s, t, a, ~, l, a, ~, p, l, a, t, i, c, a, ~, ~q, qu, ue, e~, ~b, bu, ue, en, na, a~, ~e, es, st, ta, a~, ~l, la, a~, ~p, pl, la, at, ti, ic, ca, a~, ~qu, que, ue~, e~b, ~bu, bue, uen, ena, na~, a~e, ~es, est, sta, ta~, a~l, ~la, la~, a~p, ~pl, pla, lat, ati, tic, ica, ca~, que~buena, buena~esta, esta~la, la~platica, que~la, buena~platica|\n",
       "|104|(1, 2, 3, (2, 1), (2, 2))|~, q, u, e, ~, b, u, e, n, a, ~, e, s, t, a, ~, l, a, ~, p, l, a, t, i, c, a, ~, ~q, qu, ue, e~, ~b, bu, ue, en, na, a~, ~e, es, st, ta, a~, ~l, la, a~, ~p, pl, la, at, ti, ic, ca, a~, ~qu, que, ue~, e~b, ~bu, bue, uen, ena, na~, a~e, ~es, est, sta, ta~, a~l, ~la, la~, a~p, ~pl, pla, lat, ati, tic, ica, ca~, que~esta, buena~la, esta~platica, que~la, buena~platica|\n",
       "|105|(1, 2, -1, -2, (2, 1))|~, q, u, e, ~, b, u, e, n, a, ~, e, s, t, a, ~, l, a, ~, p, l, a, t, i, c, a, ~, ~q, qu, ue, e~, ~b, bu, ue, en, na, a~, ~e, es, st, ta, a~, ~l, la, a~, ~p, pl, la, at, ti, ic, ca, a~, que, buena, esta, la, platica, que~buena, buena~esta, esta~la, la~platica, que~esta, buena~la, esta~platica|\n",
       "|106|(1, 2, -1, -2, (2, 2))|~, q, u, e, ~, b, u, e, n, a, ~, e, s, t, a, ~, l, a, ~, p, l, a, t, i, c, a, ~, ~q, qu, ue, e~, ~b, bu, ue, en, na, a~, ~e, es, st, ta, a~, ~l, la, a~, ~p, pl, la, at, ti, ic, ca, a~, que, buena, esta, la, platica, que~buena, buena~esta, esta~la, la~platica, que~la, buena~platica|\n",
       "|107|(1, 2, -1, (2, 1), (2, 2))|~, q, u, e, ~, b, u, e, n, a, ~, e, s, t, a, ~, l, a, ~, p, l, a, t, i, c, a, ~, ~q, qu, ue, e~, ~b, bu, ue, en, na, a~, ~e, es, st, ta, a~, ~l, la, a~, ~p, pl, la, at, ti, ic, ca, a~, que, buena, esta, la, platica, que~esta, buena~la, esta~platica, que~la, buena~platica|\n",
       "|108|(1, 2, -2, (2, 1), (2, 2))|~, q, u, e, ~, b, u, e, n, a, ~, e, s, t, a, ~, l, a, ~, p, l, a, t, i, c, a, ~, ~q, qu, ue, e~, ~b, bu, ue, en, na, a~, ~e, es, st, ta, a~, ~l, la, a~, ~p, pl, la, at, ti, ic, ca, a~, que~buena, buena~esta, esta~la, la~platica, que~esta, buena~la, esta~platica, que~la, buena~platica|\n",
       "|109|(1, 3, -1, -2, (2, 1))|~, q, u, e, ~, b, u, e, n, a, ~, e, s, t, a, ~, l, a, ~, p, l, a, t, i, c, a, ~, ~qu, que, ue~, e~b, ~bu, bue, uen, ena, na~, a~e, ~es, est, sta, ta~, a~l, ~la, la~, a~p, ~pl, pla, lat, ati, tic, ica, ca~, que, buena, esta, la, platica, que~buena, buena~esta, esta~la, la~platica, que~esta, buena~la, esta~platica|\n",
       "|110|(1, 3, -1, -2, (2, 2))|~, q, u, e, ~, b, u, e, n, a, ~, e, s, t, a, ~, l, a, ~, p, l, a, t, i, c, a, ~, ~qu, que, ue~, e~b, ~bu, bue, uen, ena, na~, a~e, ~es, est, sta, ta~, a~l, ~la, la~, a~p, ~pl, pla, lat, ati, tic, ica, ca~, que, buena, esta, la, platica, que~buena, buena~esta, esta~la, la~platica, que~la, buena~platica|\n",
       "|111|(1, 3, -1, (2, 1), (2, 2))|~, q, u, e, ~, b, u, e, n, a, ~, e, s, t, a, ~, l, a, ~, p, l, a, t, i, c, a, ~, ~qu, que, ue~, e~b, ~bu, bue, uen, ena, na~, a~e, ~es, est, sta, ta~, a~l, ~la, la~, a~p, ~pl, pla, lat, ati, tic, ica, ca~, que, buena, esta, la, platica, que~esta, buena~la, esta~platica, que~la, buena~platica|\n",
       "|112|(1, 3, -2, (2, 1), (2, 2))|~, q, u, e, ~, b, u, e, n, a, ~, e, s, t, a, ~, l, a, ~, p, l, a, t, i, c, a, ~, ~qu, que, ue~, e~b, ~bu, bue, uen, ena, na~, a~e, ~es, est, sta, ta~, a~l, ~la, la~, a~p, ~pl, pla, lat, ati, tic, ica, ca~, que~buena, buena~esta, esta~la, la~platica, que~esta, buena~la, esta~platica, que~la, buena~platica|\n",
       "|113|(1, -1, -2, (2, 1), (2, 2))|~, q, u, e, ~, b, u, e, n, a, ~, e, s, t, a, ~, l, a, ~, p, l, a, t, i, c, a, ~, que, buena, esta, la, platica, que~buena, buena~esta, esta~la, la~platica, que~esta, buena~la, esta~platica, que~la, buena~platica|\n",
       "|114|(2, 3, -1, -2, (2, 1))|~q, qu, ue, e~, ~b, bu, ue, en, na, a~, ~e, es, st, ta, a~, ~l, la, a~, ~p, pl, la, at, ti, ic, ca, a~, ~qu, que, ue~, e~b, ~bu, bue, uen, ena, na~, a~e, ~es, est, sta, ta~, a~l, ~la, la~, a~p, ~pl, pla, lat, ati, tic, ica, ca~, que, buena, esta, la, platica, que~buena, buena~esta, esta~la, la~platica, que~esta, buena~la, esta~platica|\n",
       "|115|(2, 3, -1, -2, (2, 2))|~q, qu, ue, e~, ~b, bu, ue, en, na, a~, ~e, es, st, ta, a~, ~l, la, a~, ~p, pl, la, at, ti, ic, ca, a~, ~qu, que, ue~, e~b, ~bu, bue, uen, ena, na~, a~e, ~es, est, sta, ta~, a~l, ~la, la~, a~p, ~pl, pla, lat, ati, tic, ica, ca~, que, buena, esta, la, platica, que~buena, buena~esta, esta~la, la~platica, que~la, buena~platica|\n",
       "|116|(2, 3, -1, (2, 1), (2, 2))|~q, qu, ue, e~, ~b, bu, ue, en, na, a~, ~e, es, st, ta, a~, ~l, la, a~, ~p, pl, la, at, ti, ic, ca, a~, ~qu, que, ue~, e~b, ~bu, bue, uen, ena, na~, a~e, ~es, est, sta, ta~, a~l, ~la, la~, a~p, ~pl, pla, lat, ati, tic, ica, ca~, que, buena, esta, la, platica, que~esta, buena~la, esta~platica, que~la, buena~platica|\n",
       "|117|(2, 3, -2, (2, 1), (2, 2))|~q, qu, ue, e~, ~b, bu, ue, en, na, a~, ~e, es, st, ta, a~, ~l, la, a~, ~p, pl, la, at, ti, ic, ca, a~, ~qu, que, ue~, e~b, ~bu, bue, uen, ena, na~, a~e, ~es, est, sta, ta~, a~l, ~la, la~, a~p, ~pl, pla, lat, ati, tic, ica, ca~, que~buena, buena~esta, esta~la, la~platica, que~esta, buena~la, esta~platica, que~la, buena~platica|\n",
       "|118|(2, -1, -2, (2, 1), (2, 2))|~q, qu, ue, e~, ~b, bu, ue, en, na, a~, ~e, es, st, ta, a~, ~l, la, a~, ~p, pl, la, at, ti, ic, ca, a~, que, buena, esta, la, platica, que~buena, buena~esta, esta~la, la~platica, que~esta, buena~la, esta~platica, que~la, buena~platica|\n",
       "|119|(3, -1, -2, (2, 1), (2, 2))|~qu, que, ue~, e~b, ~bu, bue, uen, ena, na~, a~e, ~es, est, sta, ta~, a~l, ~la, la~, a~p, ~pl, pla, lat, ati, tic, ica, ca~, que, buena, esta, la, platica, que~buena, buena~esta, esta~la, la~platica, que~esta, buena~la, esta~platica, que~la, buena~platica|\n",
       "## Combinaciones de tamaño 6 ##\n",
       "|id|combinación|tokens|\n",
       "|--|-----------|------|\n",
       "|120|(1, 2, 3, -1, -2, (2, 1))|~, q, u, e, ~, b, u, e, n, a, ~, e, s, t, a, ~, l, a, ~, p, l, a, t, i, c, a, ~, ~q, qu, ue, e~, ~b, bu, ue, en, na, a~, ~e, es, st, ta, a~, ~l, la, a~, ~p, pl, la, at, ti, ic, ca, a~, ~qu, que, ue~, e~b, ~bu, bue, uen, ena, na~, a~e, ~es, est, sta, ta~, a~l, ~la, la~, a~p, ~pl, pla, lat, ati, tic, ica, ca~, que, buena, esta, la, platica, que~buena, buena~esta, esta~la, la~platica, que~esta, buena~la, esta~platica|\n",
       "|121|(1, 2, 3, -1, -2, (2, 2))|~, q, u, e, ~, b, u, e, n, a, ~, e, s, t, a, ~, l, a, ~, p, l, a, t, i, c, a, ~, ~q, qu, ue, e~, ~b, bu, ue, en, na, a~, ~e, es, st, ta, a~, ~l, la, a~, ~p, pl, la, at, ti, ic, ca, a~, ~qu, que, ue~, e~b, ~bu, bue, uen, ena, na~, a~e, ~es, est, sta, ta~, a~l, ~la, la~, a~p, ~pl, pla, lat, ati, tic, ica, ca~, que, buena, esta, la, platica, que~buena, buena~esta, esta~la, la~platica, que~la, buena~platica|\n",
       "|122|(1, 2, 3, -1, (2, 1), (2, 2))|~, q, u, e, ~, b, u, e, n, a, ~, e, s, t, a, ~, l, a, ~, p, l, a, t, i, c, a, ~, ~q, qu, ue, e~, ~b, bu, ue, en, na, a~, ~e, es, st, ta, a~, ~l, la, a~, ~p, pl, la, at, ti, ic, ca, a~, ~qu, que, ue~, e~b, ~bu, bue, uen, ena, na~, a~e, ~es, est, sta, ta~, a~l, ~la, la~, a~p, ~pl, pla, lat, ati, tic, ica, ca~, que, buena, esta, la, platica, que~esta, buena~la, esta~platica, que~la, buena~platica|\n",
       "|123|(1, 2, 3, -2, (2, 1), (2, 2))|~, q, u, e, ~, b, u, e, n, a, ~, e, s, t, a, ~, l, a, ~, p, l, a, t, i, c, a, ~, ~q, qu, ue, e~, ~b, bu, ue, en, na, a~, ~e, es, st, ta, a~, ~l, la, a~, ~p, pl, la, at, ti, ic, ca, a~, ~qu, que, ue~, e~b, ~bu, bue, uen, ena, na~, a~e, ~es, est, sta, ta~, a~l, ~la, la~, a~p, ~pl, pla, lat, ati, tic, ica, ca~, que~buena, buena~esta, esta~la, la~platica, que~esta, buena~la, esta~platica, que~la, buena~platica|\n",
       "|124|(1, 2, -1, -2, (2, 1), (2, 2))|~, q, u, e, ~, b, u, e, n, a, ~, e, s, t, a, ~, l, a, ~, p, l, a, t, i, c, a, ~, ~q, qu, ue, e~, ~b, bu, ue, en, na, a~, ~e, es, st, ta, a~, ~l, la, a~, ~p, pl, la, at, ti, ic, ca, a~, que, buena, esta, la, platica, que~buena, buena~esta, esta~la, la~platica, que~esta, buena~la, esta~platica, que~la, buena~platica|\n",
       "|125|(1, 3, -1, -2, (2, 1), (2, 2))|~, q, u, e, ~, b, u, e, n, a, ~, e, s, t, a, ~, l, a, ~, p, l, a, t, i, c, a, ~, ~qu, que, ue~, e~b, ~bu, bue, uen, ena, na~, a~e, ~es, est, sta, ta~, a~l, ~la, la~, a~p, ~pl, pla, lat, ati, tic, ica, ca~, que, buena, esta, la, platica, que~buena, buena~esta, esta~la, la~platica, que~esta, buena~la, esta~platica, que~la, buena~platica|\n",
       "|126|(2, 3, -1, -2, (2, 1), (2, 2))|~q, qu, ue, e~, ~b, bu, ue, en, na, a~, ~e, es, st, ta, a~, ~l, la, a~, ~p, pl, la, at, ti, ic, ca, a~, ~qu, que, ue~, e~b, ~bu, bue, uen, ena, na~, a~e, ~es, est, sta, ta~, a~l, ~la, la~, a~p, ~pl, pla, lat, ati, tic, ica, ca~, que, buena, esta, la, platica, que~buena, buena~esta, esta~la, la~platica, que~esta, buena~la, esta~platica, que~la, buena~platica|\n",
       "## Combinaciones de tamaño 7 ##\n",
       "|id|combinación|tokens|\n",
       "|--|-----------|------|\n",
       "|127|(1, 2, 3, -1, -2, (2, 1), (2, 2))|~, q, u, e, ~, b, u, e, n, a, ~, e, s, t, a, ~, l, a, ~, p, l, a, t, i, c, a, ~, ~q, qu, ue, e~, ~b, bu, ue, en, na, a~, ~e, es, st, ta, a~, ~l, la, a~, ~p, pl, la, at, ti, ic, ca, a~, ~qu, que, ue~, e~b, ~bu, bue, uen, ena, na~, a~e, ~es, est, sta, ta~, a~l, ~la, la~, a~p, ~pl, pla, lat, ati, tic, ica, ca~, que, buena, esta, la, platica, que~buena, buena~esta, esta~la, la~platica, que~esta, buena~la, esta~platica, que~la, buena~platica|"
      ],
      "text/plain": [
       "<IPython.core.display.Markdown object>"
      ]
     },
     "execution_count": 7,
     "metadata": {},
     "output_type": "execute_result"
    }
   ],
   "source": [
    "from itertools import combinations\n",
    "text = \"qué buena esta la plática\"\n",
    "tokenizers = [1, 2, 3, -1, -2, (2,1), (2,2)]\n",
    "\n",
    "num = 1\n",
    "output = [\"\"\"\n",
    "\n",
    "## Tokenizadores Ejemplos ##\n",
    "La codificación es:\n",
    "\n",
    "- entero positivo: q-grama de caracter\n",
    "- entero engativo: w-word (n-grama de palabra)\n",
    "- tupla: skip-gram (tamaño, salto)\n",
    "\n",
    "\"\"\"]\n",
    "for ltokens in range(len(tokenizers)):\n",
    "    output.append('## Combinaciones de tamaño {0} ##'.format(ltokens+1))\n",
    "    output.append('|id|combinación|tokens|')\n",
    "    output.append('|--|-----------|------|')\n",
    "    for comb in combinations(tokenizers, ltokens+1):\n",
    "        model = TextModel([], token_list=comb)\n",
    "        output.append(\"|{0}|{1}|{2}|\".format(num, comb, \", \".join(model.tokenize(text))))\n",
    "        num += 1\n",
    "\n",
    "Markdown(\"\\n\".join(output))"
   ]
  }
 ],
 "metadata": {
  "anaconda-cloud": {},
  "celltoolbar": "Slideshow",
  "kernelspec": {
   "display_name": "Python [default]",
   "language": "python",
   "name": "python3"
  },
  "language_info": {
   "codemirror_mode": {
    "name": "ipython",
    "version": 3
   },
   "file_extension": ".py",
   "mimetype": "text/x-python",
   "name": "python",
   "nbconvert_exporter": "python",
   "pygments_lexer": "ipython3",
   "version": "3.5.2"
  },
  "nbpresent": {
   "slides": {},
   "themes": {
    "default": "b0433df0-cf31-4f76-8bbe-2fbdab949ff3",
    "theme": {
     "b0433df0-cf31-4f76-8bbe-2fbdab949ff3": {
      "backgrounds": {
       "backgroundColor": {
        "background-color": "backgroundColor",
        "id": "backgroundColor"
       }
      },
      "id": "b0433df0-cf31-4f76-8bbe-2fbdab949ff3",
      "palette": {
       "backgroundColor": {
        "id": "backgroundColor",
        "rgb": [
         240,
         241,
         235
        ]
       },
       "headingColor": {
        "id": "headingColor",
        "rgb": [
         56,
         61,
         61
        ]
       },
       "linkColor": {
        "id": "linkColor",
        "rgb": [
         81,
         72,
         61
        ]
       },
       "mainColor": {
        "id": "mainColor",
        "rgb": [
         0,
         0,
         0
        ]
       }
      },
      "rules": {
       "a": {
        "color": "linkColor"
       },
       "h1": {
        "color": "headingColor",
        "font-family": "EB Garamond",
        "font-size": 7
       },
       "h2": {
        "color": "headingColor",
        "font-family": "EB Garamond",
        "font-size": 5
       },
       "h3": {
        "color": "headingColor",
        "font-family": "EB Garamond",
        "font-size": 3.75
       },
       "h4": {
        "color": "headingColor",
        "font-family": "EB Garamond",
        "font-size": 3
       },
       "h5": {
        "color": "headingColor",
        "font-family": "EB Garamond"
       },
       "h6": {
        "color": "headingColor",
        "font-family": "EB Garamond"
       },
       "h7": {
        "color": "headingColor",
        "font-family": "EB Garamond"
       },
       "li": {
        "color": "mainColor",
        "font-family": "EB Garamond",
        "font-size": 5
       },
       "p": {
        "color": "mainColor",
        "font-family": "EB Garamond",
        "font-size": 5
       }
      },
      "text-base": {
       "color": "mainColor",
       "font-family": "EB Garamond",
       "font-size": 5
      }
     }
    }
   }
  }
 },
 "nbformat": 4,
 "nbformat_minor": 0
}
